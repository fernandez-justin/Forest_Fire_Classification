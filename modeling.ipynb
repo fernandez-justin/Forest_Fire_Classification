{
 "cells": [
  {
   "cell_type": "code",
   "execution_count": 1,
   "metadata": {},
   "outputs": [],
   "source": [
    "import pandas as pd\n",
    "import numpy as np\n",
    "import matplotlib.pyplot as plt\n",
    "import seaborn as sns\n",
    "\n",
    "pd.options.display.max_columns = None\n",
    "\n",
    "from sklearn.linear_model import LogisticRegression\n",
    "from sklearn.neighbors import KNeighborsClassifier\n",
    "from sklearn.preprocessing import StandardScaler\n",
    "\n",
    "from sklearn.model_selection import cross_val_score\n",
    "from sklearn.tree import DecisionTreeClassifier\n",
    "from sklearn.model_selection import train_test_split\n",
    "from sklearn import metrics\n",
    "from sklearn.metrics import f1_score, accuracy_score, precision_score, recall_score\n",
    "\n",
    "from sklearn.feature_selection import RFECV\n",
    "import warnings\n",
    "warnings.filterwarnings('ignore')\n",
    "\n",
    "from sklearn.utils import resample\n",
    "\n",
    "from sklearn.feature_selection import SelectKBest, f_regression,mutual_info_regression\n",
    "# for feature selection\n",
    "from sklearn.feature_selection import RFECV\n",
    "import warnings\n",
    "warnings.filterwarnings('ignore')\n",
    "from sklearn.feature_selection import chi2, f_classif, mutual_info_classif\n",
    "from sklearn.model_selection import GridSearchCV"
   ]
  },
  {
   "cell_type": "code",
   "execution_count": 2,
   "metadata": {},
   "outputs": [],
   "source": [
    "df = pd.read_csv('data/cleaned_fire_data.csv')"
   ]
  },
  {
   "cell_type": "code",
   "execution_count": 3,
   "metadata": {},
   "outputs": [],
   "source": [
    "cols_to_drop = [\n",
    "    'Unnamed: 0'\n",
    "]"
   ]
  },
  {
   "cell_type": "code",
   "execution_count": 4,
   "metadata": {},
   "outputs": [],
   "source": [
    "df = df.drop(columns=cols_to_drop,axis=1)"
   ]
  },
  {
   "cell_type": "code",
   "execution_count": 5,
   "metadata": {
    "scrolled": true
   },
   "outputs": [
    {
     "data": {
      "text/html": [
       "<div>\n",
       "<style scoped>\n",
       "    .dataframe tbody tr th:only-of-type {\n",
       "        vertical-align: middle;\n",
       "    }\n",
       "\n",
       "    .dataframe tbody tr th {\n",
       "        vertical-align: top;\n",
       "    }\n",
       "\n",
       "    .dataframe thead th {\n",
       "        text-align: right;\n",
       "    }\n",
       "</style>\n",
       "<table border=\"1\" class=\"dataframe\">\n",
       "  <thead>\n",
       "    <tr style=\"text-align: right;\">\n",
       "      <th></th>\n",
       "      <th>stat_cause_descr</th>\n",
       "      <th>latitude</th>\n",
       "      <th>longitude</th>\n",
       "      <th>Temp_pre_30</th>\n",
       "      <th>Temp_pre_15</th>\n",
       "      <th>Temp_pre_7</th>\n",
       "      <th>Wind_pre_30</th>\n",
       "      <th>Wind_pre_15</th>\n",
       "      <th>Wind_pre_7</th>\n",
       "      <th>Hum_pre_30</th>\n",
       "      <th>Hum_pre_15</th>\n",
       "      <th>Hum_pre_7</th>\n",
       "      <th>Prec_pre_30</th>\n",
       "      <th>Prec_pre_15</th>\n",
       "      <th>Prec_pre_7</th>\n",
       "      <th>remoteness</th>\n",
       "      <th>target</th>\n",
       "      <th>month</th>\n",
       "      <th>year</th>\n",
       "      <th>temp_avg</th>\n",
       "      <th>is_remote</th>\n",
       "      <th>did_rain</th>\n",
       "      <th>Temp_pre_30_bin</th>\n",
       "      <th>Temp_pre_15_bin</th>\n",
       "      <th>Temp_pre_7_bin</th>\n",
       "      <th>discovery_month_Aug</th>\n",
       "      <th>discovery_month_Dec</th>\n",
       "      <th>discovery_month_Feb</th>\n",
       "      <th>discovery_month_Jan</th>\n",
       "      <th>discovery_month_Jul</th>\n",
       "      <th>discovery_month_Jun</th>\n",
       "      <th>discovery_month_Mar</th>\n",
       "      <th>discovery_month_May</th>\n",
       "      <th>discovery_month_Nov</th>\n",
       "      <th>discovery_month_Oct</th>\n",
       "      <th>discovery_month_Sep</th>\n",
       "      <th>state_AL</th>\n",
       "      <th>state_AR</th>\n",
       "      <th>state_AZ</th>\n",
       "      <th>state_CA</th>\n",
       "      <th>state_CO</th>\n",
       "      <th>state_CT</th>\n",
       "      <th>state_DE</th>\n",
       "      <th>state_FL</th>\n",
       "      <th>state_GA</th>\n",
       "      <th>state_HI</th>\n",
       "      <th>state_IA</th>\n",
       "      <th>state_ID</th>\n",
       "      <th>state_IL</th>\n",
       "      <th>state_IN</th>\n",
       "      <th>state_KS</th>\n",
       "      <th>state_KY</th>\n",
       "      <th>state_LA</th>\n",
       "      <th>state_MA</th>\n",
       "      <th>state_MD</th>\n",
       "      <th>state_ME</th>\n",
       "      <th>state_MI</th>\n",
       "      <th>state_MN</th>\n",
       "      <th>state_MO</th>\n",
       "      <th>state_MS</th>\n",
       "      <th>state_MT</th>\n",
       "      <th>state_NC</th>\n",
       "      <th>state_ND</th>\n",
       "      <th>state_NE</th>\n",
       "      <th>state_NH</th>\n",
       "      <th>state_NJ</th>\n",
       "      <th>state_NM</th>\n",
       "      <th>state_NV</th>\n",
       "      <th>state_NY</th>\n",
       "      <th>state_OH</th>\n",
       "      <th>state_OK</th>\n",
       "      <th>state_OR</th>\n",
       "      <th>state_PA</th>\n",
       "      <th>state_PR</th>\n",
       "      <th>state_RI</th>\n",
       "      <th>state_SC</th>\n",
       "      <th>state_SD</th>\n",
       "      <th>state_TN</th>\n",
       "      <th>state_TX</th>\n",
       "      <th>state_UT</th>\n",
       "      <th>state_VA</th>\n",
       "      <th>state_VT</th>\n",
       "      <th>state_WA</th>\n",
       "      <th>state_WI</th>\n",
       "      <th>state_WV</th>\n",
       "      <th>state_WY</th>\n",
       "      <th>Vegetation_4</th>\n",
       "      <th>Vegetation_9</th>\n",
       "      <th>Vegetation_12</th>\n",
       "      <th>Vegetation_14</th>\n",
       "      <th>Vegetation_15</th>\n",
       "      <th>Vegetation_16</th>\n",
       "      <th>longitude_bin</th>\n",
       "      <th>west_coast</th>\n",
       "      <th>very_windy_30</th>\n",
       "      <th>very_windy_15</th>\n",
       "      <th>very_windy_7</th>\n",
       "      <th>low_humid_30</th>\n",
       "      <th>low_humid_15</th>\n",
       "      <th>low_humid_7</th>\n",
       "    </tr>\n",
       "  </thead>\n",
       "  <tbody>\n",
       "    <tr>\n",
       "      <th>0</th>\n",
       "      <td>0</td>\n",
       "      <td>18.105072</td>\n",
       "      <td>-66.753044</td>\n",
       "      <td>76.065753</td>\n",
       "      <td>76.490462</td>\n",
       "      <td>76.824675</td>\n",
       "      <td>4.341807</td>\n",
       "      <td>3.492857</td>\n",
       "      <td>3.262092</td>\n",
       "      <td>78.216590</td>\n",
       "      <td>76.793750</td>\n",
       "      <td>76.381579</td>\n",
       "      <td>0.0</td>\n",
       "      <td>0.0</td>\n",
       "      <td>0.0</td>\n",
       "      <td>0.017923</td>\n",
       "      <td>0</td>\n",
       "      <td>2</td>\n",
       "      <td>2007</td>\n",
       "      <td>76.460297</td>\n",
       "      <td>0</td>\n",
       "      <td>0</td>\n",
       "      <td>3</td>\n",
       "      <td>3</td>\n",
       "      <td>3</td>\n",
       "      <td>0</td>\n",
       "      <td>0</td>\n",
       "      <td>1</td>\n",
       "      <td>0</td>\n",
       "      <td>0</td>\n",
       "      <td>0</td>\n",
       "      <td>0</td>\n",
       "      <td>0</td>\n",
       "      <td>0</td>\n",
       "      <td>0</td>\n",
       "      <td>0</td>\n",
       "      <td>0</td>\n",
       "      <td>0</td>\n",
       "      <td>0</td>\n",
       "      <td>0</td>\n",
       "      <td>0</td>\n",
       "      <td>0</td>\n",
       "      <td>0</td>\n",
       "      <td>0</td>\n",
       "      <td>0</td>\n",
       "      <td>0</td>\n",
       "      <td>0</td>\n",
       "      <td>0</td>\n",
       "      <td>0</td>\n",
       "      <td>0</td>\n",
       "      <td>0</td>\n",
       "      <td>0</td>\n",
       "      <td>0</td>\n",
       "      <td>0</td>\n",
       "      <td>0</td>\n",
       "      <td>0</td>\n",
       "      <td>0</td>\n",
       "      <td>0</td>\n",
       "      <td>0</td>\n",
       "      <td>0</td>\n",
       "      <td>0</td>\n",
       "      <td>0</td>\n",
       "      <td>0</td>\n",
       "      <td>0</td>\n",
       "      <td>0</td>\n",
       "      <td>0</td>\n",
       "      <td>0</td>\n",
       "      <td>0</td>\n",
       "      <td>0</td>\n",
       "      <td>0</td>\n",
       "      <td>0</td>\n",
       "      <td>0</td>\n",
       "      <td>0</td>\n",
       "      <td>1</td>\n",
       "      <td>0</td>\n",
       "      <td>0</td>\n",
       "      <td>0</td>\n",
       "      <td>0</td>\n",
       "      <td>0</td>\n",
       "      <td>0</td>\n",
       "      <td>0</td>\n",
       "      <td>0</td>\n",
       "      <td>0</td>\n",
       "      <td>0</td>\n",
       "      <td>0</td>\n",
       "      <td>0</td>\n",
       "      <td>0</td>\n",
       "      <td>0</td>\n",
       "      <td>1</td>\n",
       "      <td>0</td>\n",
       "      <td>0</td>\n",
       "      <td>0</td>\n",
       "      <td>3</td>\n",
       "      <td>0</td>\n",
       "      <td>1</td>\n",
       "      <td>1</td>\n",
       "      <td>1</td>\n",
       "      <td>0</td>\n",
       "      <td>0</td>\n",
       "      <td>0</td>\n",
       "    </tr>\n",
       "    <tr>\n",
       "      <th>1</th>\n",
       "      <td>0</td>\n",
       "      <td>35.038330</td>\n",
       "      <td>-87.610000</td>\n",
       "      <td>45.596180</td>\n",
       "      <td>44.618000</td>\n",
       "      <td>32.618353</td>\n",
       "      <td>2.709764</td>\n",
       "      <td>2.881707</td>\n",
       "      <td>1.976471</td>\n",
       "      <td>70.840000</td>\n",
       "      <td>65.858911</td>\n",
       "      <td>55.505882</td>\n",
       "      <td>59.8</td>\n",
       "      <td>8.4</td>\n",
       "      <td>0.0</td>\n",
       "      <td>0.184355</td>\n",
       "      <td>0</td>\n",
       "      <td>12</td>\n",
       "      <td>2006</td>\n",
       "      <td>40.944178</td>\n",
       "      <td>0</td>\n",
       "      <td>1</td>\n",
       "      <td>0</td>\n",
       "      <td>0</td>\n",
       "      <td>0</td>\n",
       "      <td>0</td>\n",
       "      <td>1</td>\n",
       "      <td>0</td>\n",
       "      <td>0</td>\n",
       "      <td>0</td>\n",
       "      <td>0</td>\n",
       "      <td>0</td>\n",
       "      <td>0</td>\n",
       "      <td>0</td>\n",
       "      <td>0</td>\n",
       "      <td>0</td>\n",
       "      <td>0</td>\n",
       "      <td>0</td>\n",
       "      <td>0</td>\n",
       "      <td>0</td>\n",
       "      <td>0</td>\n",
       "      <td>0</td>\n",
       "      <td>0</td>\n",
       "      <td>0</td>\n",
       "      <td>0</td>\n",
       "      <td>0</td>\n",
       "      <td>0</td>\n",
       "      <td>0</td>\n",
       "      <td>0</td>\n",
       "      <td>0</td>\n",
       "      <td>0</td>\n",
       "      <td>0</td>\n",
       "      <td>0</td>\n",
       "      <td>0</td>\n",
       "      <td>0</td>\n",
       "      <td>0</td>\n",
       "      <td>0</td>\n",
       "      <td>0</td>\n",
       "      <td>0</td>\n",
       "      <td>0</td>\n",
       "      <td>0</td>\n",
       "      <td>0</td>\n",
       "      <td>0</td>\n",
       "      <td>0</td>\n",
       "      <td>0</td>\n",
       "      <td>0</td>\n",
       "      <td>0</td>\n",
       "      <td>0</td>\n",
       "      <td>0</td>\n",
       "      <td>0</td>\n",
       "      <td>0</td>\n",
       "      <td>0</td>\n",
       "      <td>0</td>\n",
       "      <td>0</td>\n",
       "      <td>0</td>\n",
       "      <td>0</td>\n",
       "      <td>0</td>\n",
       "      <td>1</td>\n",
       "      <td>0</td>\n",
       "      <td>0</td>\n",
       "      <td>0</td>\n",
       "      <td>0</td>\n",
       "      <td>0</td>\n",
       "      <td>0</td>\n",
       "      <td>0</td>\n",
       "      <td>0</td>\n",
       "      <td>0</td>\n",
       "      <td>0</td>\n",
       "      <td>0</td>\n",
       "      <td>0</td>\n",
       "      <td>1</td>\n",
       "      <td>0</td>\n",
       "      <td>2</td>\n",
       "      <td>0</td>\n",
       "      <td>0</td>\n",
       "      <td>0</td>\n",
       "      <td>0</td>\n",
       "      <td>0</td>\n",
       "      <td>0</td>\n",
       "      <td>0</td>\n",
       "    </tr>\n",
       "    <tr>\n",
       "      <th>2</th>\n",
       "      <td>0</td>\n",
       "      <td>34.947800</td>\n",
       "      <td>-88.722500</td>\n",
       "      <td>40.949474</td>\n",
       "      <td>42.408979</td>\n",
       "      <td>42.005750</td>\n",
       "      <td>3.364499</td>\n",
       "      <td>2.923830</td>\n",
       "      <td>2.695833</td>\n",
       "      <td>75.531629</td>\n",
       "      <td>75.868613</td>\n",
       "      <td>76.812834</td>\n",
       "      <td>168.8</td>\n",
       "      <td>42.2</td>\n",
       "      <td>18.1</td>\n",
       "      <td>0.194544</td>\n",
       "      <td>0</td>\n",
       "      <td>2</td>\n",
       "      <td>2004</td>\n",
       "      <td>41.788067</td>\n",
       "      <td>0</td>\n",
       "      <td>1</td>\n",
       "      <td>0</td>\n",
       "      <td>0</td>\n",
       "      <td>0</td>\n",
       "      <td>0</td>\n",
       "      <td>0</td>\n",
       "      <td>1</td>\n",
       "      <td>0</td>\n",
       "      <td>0</td>\n",
       "      <td>0</td>\n",
       "      <td>0</td>\n",
       "      <td>0</td>\n",
       "      <td>0</td>\n",
       "      <td>0</td>\n",
       "      <td>0</td>\n",
       "      <td>0</td>\n",
       "      <td>0</td>\n",
       "      <td>0</td>\n",
       "      <td>0</td>\n",
       "      <td>0</td>\n",
       "      <td>0</td>\n",
       "      <td>0</td>\n",
       "      <td>0</td>\n",
       "      <td>0</td>\n",
       "      <td>0</td>\n",
       "      <td>0</td>\n",
       "      <td>0</td>\n",
       "      <td>0</td>\n",
       "      <td>0</td>\n",
       "      <td>0</td>\n",
       "      <td>0</td>\n",
       "      <td>0</td>\n",
       "      <td>0</td>\n",
       "      <td>0</td>\n",
       "      <td>0</td>\n",
       "      <td>0</td>\n",
       "      <td>0</td>\n",
       "      <td>0</td>\n",
       "      <td>1</td>\n",
       "      <td>0</td>\n",
       "      <td>0</td>\n",
       "      <td>0</td>\n",
       "      <td>0</td>\n",
       "      <td>0</td>\n",
       "      <td>0</td>\n",
       "      <td>0</td>\n",
       "      <td>0</td>\n",
       "      <td>0</td>\n",
       "      <td>0</td>\n",
       "      <td>0</td>\n",
       "      <td>0</td>\n",
       "      <td>0</td>\n",
       "      <td>0</td>\n",
       "      <td>0</td>\n",
       "      <td>0</td>\n",
       "      <td>0</td>\n",
       "      <td>0</td>\n",
       "      <td>0</td>\n",
       "      <td>0</td>\n",
       "      <td>0</td>\n",
       "      <td>0</td>\n",
       "      <td>0</td>\n",
       "      <td>0</td>\n",
       "      <td>0</td>\n",
       "      <td>0</td>\n",
       "      <td>0</td>\n",
       "      <td>0</td>\n",
       "      <td>0</td>\n",
       "      <td>0</td>\n",
       "      <td>0</td>\n",
       "      <td>1</td>\n",
       "      <td>2</td>\n",
       "      <td>0</td>\n",
       "      <td>0</td>\n",
       "      <td>0</td>\n",
       "      <td>0</td>\n",
       "      <td>0</td>\n",
       "      <td>0</td>\n",
       "      <td>0</td>\n",
       "    </tr>\n",
       "    <tr>\n",
       "      <th>3</th>\n",
       "      <td>0</td>\n",
       "      <td>39.641400</td>\n",
       "      <td>-119.308300</td>\n",
       "      <td>61.296741</td>\n",
       "      <td>66.193126</td>\n",
       "      <td>64.656615</td>\n",
       "      <td>4.054982</td>\n",
       "      <td>3.398329</td>\n",
       "      <td>3.671282</td>\n",
       "      <td>44.778429</td>\n",
       "      <td>37.140811</td>\n",
       "      <td>35.353846</td>\n",
       "      <td>10.4</td>\n",
       "      <td>7.2</td>\n",
       "      <td>0.0</td>\n",
       "      <td>0.487447</td>\n",
       "      <td>0</td>\n",
       "      <td>6</td>\n",
       "      <td>2005</td>\n",
       "      <td>64.048828</td>\n",
       "      <td>0</td>\n",
       "      <td>1</td>\n",
       "      <td>2</td>\n",
       "      <td>2</td>\n",
       "      <td>2</td>\n",
       "      <td>0</td>\n",
       "      <td>0</td>\n",
       "      <td>0</td>\n",
       "      <td>0</td>\n",
       "      <td>0</td>\n",
       "      <td>1</td>\n",
       "      <td>0</td>\n",
       "      <td>0</td>\n",
       "      <td>0</td>\n",
       "      <td>0</td>\n",
       "      <td>0</td>\n",
       "      <td>0</td>\n",
       "      <td>0</td>\n",
       "      <td>0</td>\n",
       "      <td>0</td>\n",
       "      <td>0</td>\n",
       "      <td>0</td>\n",
       "      <td>0</td>\n",
       "      <td>0</td>\n",
       "      <td>0</td>\n",
       "      <td>0</td>\n",
       "      <td>0</td>\n",
       "      <td>0</td>\n",
       "      <td>0</td>\n",
       "      <td>0</td>\n",
       "      <td>0</td>\n",
       "      <td>0</td>\n",
       "      <td>0</td>\n",
       "      <td>0</td>\n",
       "      <td>0</td>\n",
       "      <td>0</td>\n",
       "      <td>0</td>\n",
       "      <td>0</td>\n",
       "      <td>0</td>\n",
       "      <td>0</td>\n",
       "      <td>0</td>\n",
       "      <td>0</td>\n",
       "      <td>0</td>\n",
       "      <td>0</td>\n",
       "      <td>0</td>\n",
       "      <td>0</td>\n",
       "      <td>0</td>\n",
       "      <td>1</td>\n",
       "      <td>0</td>\n",
       "      <td>0</td>\n",
       "      <td>0</td>\n",
       "      <td>0</td>\n",
       "      <td>0</td>\n",
       "      <td>0</td>\n",
       "      <td>0</td>\n",
       "      <td>0</td>\n",
       "      <td>0</td>\n",
       "      <td>0</td>\n",
       "      <td>0</td>\n",
       "      <td>0</td>\n",
       "      <td>0</td>\n",
       "      <td>0</td>\n",
       "      <td>0</td>\n",
       "      <td>0</td>\n",
       "      <td>0</td>\n",
       "      <td>0</td>\n",
       "      <td>0</td>\n",
       "      <td>0</td>\n",
       "      <td>0</td>\n",
       "      <td>0</td>\n",
       "      <td>0</td>\n",
       "      <td>0</td>\n",
       "      <td>0</td>\n",
       "      <td>1</td>\n",
       "      <td>1</td>\n",
       "      <td>1</td>\n",
       "      <td>1</td>\n",
       "      <td>1</td>\n",
       "      <td>1</td>\n",
       "      <td>1</td>\n",
       "    </tr>\n",
       "    <tr>\n",
       "      <th>4</th>\n",
       "      <td>0</td>\n",
       "      <td>30.904720</td>\n",
       "      <td>-93.557500</td>\n",
       "      <td>62.333490</td>\n",
       "      <td>62.596009</td>\n",
       "      <td>68.782609</td>\n",
       "      <td>1.331257</td>\n",
       "      <td>1.472949</td>\n",
       "      <td>1.424783</td>\n",
       "      <td>72.899478</td>\n",
       "      <td>75.061381</td>\n",
       "      <td>77.924623</td>\n",
       "      <td>28.4</td>\n",
       "      <td>27.5</td>\n",
       "      <td>1.2</td>\n",
       "      <td>0.241894</td>\n",
       "      <td>0</td>\n",
       "      <td>11</td>\n",
       "      <td>2005</td>\n",
       "      <td>64.570703</td>\n",
       "      <td>0</td>\n",
       "      <td>1</td>\n",
       "      <td>2</td>\n",
       "      <td>2</td>\n",
       "      <td>2</td>\n",
       "      <td>0</td>\n",
       "      <td>0</td>\n",
       "      <td>0</td>\n",
       "      <td>0</td>\n",
       "      <td>0</td>\n",
       "      <td>0</td>\n",
       "      <td>0</td>\n",
       "      <td>0</td>\n",
       "      <td>1</td>\n",
       "      <td>0</td>\n",
       "      <td>0</td>\n",
       "      <td>0</td>\n",
       "      <td>0</td>\n",
       "      <td>0</td>\n",
       "      <td>0</td>\n",
       "      <td>0</td>\n",
       "      <td>0</td>\n",
       "      <td>0</td>\n",
       "      <td>0</td>\n",
       "      <td>0</td>\n",
       "      <td>0</td>\n",
       "      <td>0</td>\n",
       "      <td>0</td>\n",
       "      <td>0</td>\n",
       "      <td>0</td>\n",
       "      <td>0</td>\n",
       "      <td>0</td>\n",
       "      <td>0</td>\n",
       "      <td>0</td>\n",
       "      <td>0</td>\n",
       "      <td>0</td>\n",
       "      <td>0</td>\n",
       "      <td>0</td>\n",
       "      <td>0</td>\n",
       "      <td>0</td>\n",
       "      <td>0</td>\n",
       "      <td>0</td>\n",
       "      <td>0</td>\n",
       "      <td>0</td>\n",
       "      <td>0</td>\n",
       "      <td>0</td>\n",
       "      <td>0</td>\n",
       "      <td>0</td>\n",
       "      <td>0</td>\n",
       "      <td>0</td>\n",
       "      <td>0</td>\n",
       "      <td>0</td>\n",
       "      <td>0</td>\n",
       "      <td>0</td>\n",
       "      <td>0</td>\n",
       "      <td>0</td>\n",
       "      <td>0</td>\n",
       "      <td>0</td>\n",
       "      <td>1</td>\n",
       "      <td>0</td>\n",
       "      <td>0</td>\n",
       "      <td>0</td>\n",
       "      <td>0</td>\n",
       "      <td>0</td>\n",
       "      <td>0</td>\n",
       "      <td>0</td>\n",
       "      <td>0</td>\n",
       "      <td>0</td>\n",
       "      <td>1</td>\n",
       "      <td>0</td>\n",
       "      <td>0</td>\n",
       "      <td>0</td>\n",
       "      <td>1</td>\n",
       "      <td>0</td>\n",
       "      <td>0</td>\n",
       "      <td>0</td>\n",
       "      <td>0</td>\n",
       "      <td>0</td>\n",
       "      <td>0</td>\n",
       "      <td>0</td>\n",
       "    </tr>\n",
       "    <tr>\n",
       "      <th>...</th>\n",
       "      <td>...</td>\n",
       "      <td>...</td>\n",
       "      <td>...</td>\n",
       "      <td>...</td>\n",
       "      <td>...</td>\n",
       "      <td>...</td>\n",
       "      <td>...</td>\n",
       "      <td>...</td>\n",
       "      <td>...</td>\n",
       "      <td>...</td>\n",
       "      <td>...</td>\n",
       "      <td>...</td>\n",
       "      <td>...</td>\n",
       "      <td>...</td>\n",
       "      <td>...</td>\n",
       "      <td>...</td>\n",
       "      <td>...</td>\n",
       "      <td>...</td>\n",
       "      <td>...</td>\n",
       "      <td>...</td>\n",
       "      <td>...</td>\n",
       "      <td>...</td>\n",
       "      <td>...</td>\n",
       "      <td>...</td>\n",
       "      <td>...</td>\n",
       "      <td>...</td>\n",
       "      <td>...</td>\n",
       "      <td>...</td>\n",
       "      <td>...</td>\n",
       "      <td>...</td>\n",
       "      <td>...</td>\n",
       "      <td>...</td>\n",
       "      <td>...</td>\n",
       "      <td>...</td>\n",
       "      <td>...</td>\n",
       "      <td>...</td>\n",
       "      <td>...</td>\n",
       "      <td>...</td>\n",
       "      <td>...</td>\n",
       "      <td>...</td>\n",
       "      <td>...</td>\n",
       "      <td>...</td>\n",
       "      <td>...</td>\n",
       "      <td>...</td>\n",
       "      <td>...</td>\n",
       "      <td>...</td>\n",
       "      <td>...</td>\n",
       "      <td>...</td>\n",
       "      <td>...</td>\n",
       "      <td>...</td>\n",
       "      <td>...</td>\n",
       "      <td>...</td>\n",
       "      <td>...</td>\n",
       "      <td>...</td>\n",
       "      <td>...</td>\n",
       "      <td>...</td>\n",
       "      <td>...</td>\n",
       "      <td>...</td>\n",
       "      <td>...</td>\n",
       "      <td>...</td>\n",
       "      <td>...</td>\n",
       "      <td>...</td>\n",
       "      <td>...</td>\n",
       "      <td>...</td>\n",
       "      <td>...</td>\n",
       "      <td>...</td>\n",
       "      <td>...</td>\n",
       "      <td>...</td>\n",
       "      <td>...</td>\n",
       "      <td>...</td>\n",
       "      <td>...</td>\n",
       "      <td>...</td>\n",
       "      <td>...</td>\n",
       "      <td>...</td>\n",
       "      <td>...</td>\n",
       "      <td>...</td>\n",
       "      <td>...</td>\n",
       "      <td>...</td>\n",
       "      <td>...</td>\n",
       "      <td>...</td>\n",
       "      <td>...</td>\n",
       "      <td>...</td>\n",
       "      <td>...</td>\n",
       "      <td>...</td>\n",
       "      <td>...</td>\n",
       "      <td>...</td>\n",
       "      <td>...</td>\n",
       "      <td>...</td>\n",
       "      <td>...</td>\n",
       "      <td>...</td>\n",
       "      <td>...</td>\n",
       "      <td>...</td>\n",
       "      <td>...</td>\n",
       "      <td>...</td>\n",
       "      <td>...</td>\n",
       "      <td>...</td>\n",
       "      <td>...</td>\n",
       "      <td>...</td>\n",
       "      <td>...</td>\n",
       "      <td>...</td>\n",
       "    </tr>\n",
       "    <tr>\n",
       "      <th>36530</th>\n",
       "      <td>0</td>\n",
       "      <td>37.606667</td>\n",
       "      <td>-96.422500</td>\n",
       "      <td>38.635038</td>\n",
       "      <td>37.471742</td>\n",
       "      <td>39.987614</td>\n",
       "      <td>5.100510</td>\n",
       "      <td>5.694737</td>\n",
       "      <td>4.975000</td>\n",
       "      <td>62.971774</td>\n",
       "      <td>69.376658</td>\n",
       "      <td>68.118919</td>\n",
       "      <td>20.1</td>\n",
       "      <td>18.8</td>\n",
       "      <td>0.0</td>\n",
       "      <td>0.365622</td>\n",
       "      <td>1</td>\n",
       "      <td>2</td>\n",
       "      <td>2015</td>\n",
       "      <td>38.698132</td>\n",
       "      <td>0</td>\n",
       "      <td>1</td>\n",
       "      <td>0</td>\n",
       "      <td>0</td>\n",
       "      <td>0</td>\n",
       "      <td>0</td>\n",
       "      <td>0</td>\n",
       "      <td>1</td>\n",
       "      <td>0</td>\n",
       "      <td>0</td>\n",
       "      <td>0</td>\n",
       "      <td>0</td>\n",
       "      <td>0</td>\n",
       "      <td>0</td>\n",
       "      <td>0</td>\n",
       "      <td>0</td>\n",
       "      <td>0</td>\n",
       "      <td>0</td>\n",
       "      <td>0</td>\n",
       "      <td>0</td>\n",
       "      <td>0</td>\n",
       "      <td>0</td>\n",
       "      <td>0</td>\n",
       "      <td>0</td>\n",
       "      <td>0</td>\n",
       "      <td>0</td>\n",
       "      <td>0</td>\n",
       "      <td>0</td>\n",
       "      <td>0</td>\n",
       "      <td>0</td>\n",
       "      <td>1</td>\n",
       "      <td>0</td>\n",
       "      <td>0</td>\n",
       "      <td>0</td>\n",
       "      <td>0</td>\n",
       "      <td>0</td>\n",
       "      <td>0</td>\n",
       "      <td>0</td>\n",
       "      <td>0</td>\n",
       "      <td>0</td>\n",
       "      <td>0</td>\n",
       "      <td>0</td>\n",
       "      <td>0</td>\n",
       "      <td>0</td>\n",
       "      <td>0</td>\n",
       "      <td>0</td>\n",
       "      <td>0</td>\n",
       "      <td>0</td>\n",
       "      <td>0</td>\n",
       "      <td>0</td>\n",
       "      <td>0</td>\n",
       "      <td>0</td>\n",
       "      <td>0</td>\n",
       "      <td>0</td>\n",
       "      <td>0</td>\n",
       "      <td>0</td>\n",
       "      <td>0</td>\n",
       "      <td>0</td>\n",
       "      <td>0</td>\n",
       "      <td>0</td>\n",
       "      <td>0</td>\n",
       "      <td>0</td>\n",
       "      <td>0</td>\n",
       "      <td>0</td>\n",
       "      <td>0</td>\n",
       "      <td>0</td>\n",
       "      <td>0</td>\n",
       "      <td>0</td>\n",
       "      <td>0</td>\n",
       "      <td>0</td>\n",
       "      <td>0</td>\n",
       "      <td>0</td>\n",
       "      <td>1</td>\n",
       "      <td>0</td>\n",
       "      <td>1</td>\n",
       "      <td>1</td>\n",
       "      <td>1</td>\n",
       "      <td>0</td>\n",
       "      <td>0</td>\n",
       "      <td>0</td>\n",
       "    </tr>\n",
       "    <tr>\n",
       "      <th>36531</th>\n",
       "      <td>0</td>\n",
       "      <td>40.394700</td>\n",
       "      <td>-104.564600</td>\n",
       "      <td>67.722291</td>\n",
       "      <td>66.728555</td>\n",
       "      <td>65.620761</td>\n",
       "      <td>2.507911</td>\n",
       "      <td>2.553364</td>\n",
       "      <td>2.638542</td>\n",
       "      <td>51.010341</td>\n",
       "      <td>50.264501</td>\n",
       "      <td>48.204861</td>\n",
       "      <td>4.6</td>\n",
       "      <td>0.0</td>\n",
       "      <td>0.0</td>\n",
       "      <td>0.199532</td>\n",
       "      <td>1</td>\n",
       "      <td>9</td>\n",
       "      <td>2015</td>\n",
       "      <td>66.690536</td>\n",
       "      <td>0</td>\n",
       "      <td>1</td>\n",
       "      <td>2</td>\n",
       "      <td>2</td>\n",
       "      <td>2</td>\n",
       "      <td>0</td>\n",
       "      <td>0</td>\n",
       "      <td>0</td>\n",
       "      <td>0</td>\n",
       "      <td>0</td>\n",
       "      <td>0</td>\n",
       "      <td>0</td>\n",
       "      <td>0</td>\n",
       "      <td>0</td>\n",
       "      <td>0</td>\n",
       "      <td>1</td>\n",
       "      <td>0</td>\n",
       "      <td>0</td>\n",
       "      <td>0</td>\n",
       "      <td>0</td>\n",
       "      <td>1</td>\n",
       "      <td>0</td>\n",
       "      <td>0</td>\n",
       "      <td>0</td>\n",
       "      <td>0</td>\n",
       "      <td>0</td>\n",
       "      <td>0</td>\n",
       "      <td>0</td>\n",
       "      <td>0</td>\n",
       "      <td>0</td>\n",
       "      <td>0</td>\n",
       "      <td>0</td>\n",
       "      <td>0</td>\n",
       "      <td>0</td>\n",
       "      <td>0</td>\n",
       "      <td>0</td>\n",
       "      <td>0</td>\n",
       "      <td>0</td>\n",
       "      <td>0</td>\n",
       "      <td>0</td>\n",
       "      <td>0</td>\n",
       "      <td>0</td>\n",
       "      <td>0</td>\n",
       "      <td>0</td>\n",
       "      <td>0</td>\n",
       "      <td>0</td>\n",
       "      <td>0</td>\n",
       "      <td>0</td>\n",
       "      <td>0</td>\n",
       "      <td>0</td>\n",
       "      <td>0</td>\n",
       "      <td>0</td>\n",
       "      <td>0</td>\n",
       "      <td>0</td>\n",
       "      <td>0</td>\n",
       "      <td>0</td>\n",
       "      <td>0</td>\n",
       "      <td>0</td>\n",
       "      <td>0</td>\n",
       "      <td>0</td>\n",
       "      <td>0</td>\n",
       "      <td>0</td>\n",
       "      <td>0</td>\n",
       "      <td>0</td>\n",
       "      <td>0</td>\n",
       "      <td>0</td>\n",
       "      <td>0</td>\n",
       "      <td>0</td>\n",
       "      <td>0</td>\n",
       "      <td>1</td>\n",
       "      <td>0</td>\n",
       "      <td>0</td>\n",
       "      <td>1</td>\n",
       "      <td>1</td>\n",
       "      <td>0</td>\n",
       "      <td>0</td>\n",
       "      <td>0</td>\n",
       "      <td>0</td>\n",
       "      <td>0</td>\n",
       "      <td>1</td>\n",
       "    </tr>\n",
       "    <tr>\n",
       "      <th>36532</th>\n",
       "      <td>0</td>\n",
       "      <td>39.180000</td>\n",
       "      <td>-96.784167</td>\n",
       "      <td>67.497438</td>\n",
       "      <td>62.404308</td>\n",
       "      <td>66.054190</td>\n",
       "      <td>3.259176</td>\n",
       "      <td>2.705398</td>\n",
       "      <td>3.196648</td>\n",
       "      <td>65.671410</td>\n",
       "      <td>61.839572</td>\n",
       "      <td>54.625698</td>\n",
       "      <td>35.4</td>\n",
       "      <td>8.2</td>\n",
       "      <td>0.0</td>\n",
       "      <td>0.331501</td>\n",
       "      <td>1</td>\n",
       "      <td>10</td>\n",
       "      <td>2015</td>\n",
       "      <td>65.318645</td>\n",
       "      <td>0</td>\n",
       "      <td>1</td>\n",
       "      <td>2</td>\n",
       "      <td>2</td>\n",
       "      <td>2</td>\n",
       "      <td>0</td>\n",
       "      <td>0</td>\n",
       "      <td>0</td>\n",
       "      <td>0</td>\n",
       "      <td>0</td>\n",
       "      <td>0</td>\n",
       "      <td>0</td>\n",
       "      <td>0</td>\n",
       "      <td>0</td>\n",
       "      <td>1</td>\n",
       "      <td>0</td>\n",
       "      <td>0</td>\n",
       "      <td>0</td>\n",
       "      <td>0</td>\n",
       "      <td>0</td>\n",
       "      <td>0</td>\n",
       "      <td>0</td>\n",
       "      <td>0</td>\n",
       "      <td>0</td>\n",
       "      <td>0</td>\n",
       "      <td>0</td>\n",
       "      <td>0</td>\n",
       "      <td>0</td>\n",
       "      <td>0</td>\n",
       "      <td>0</td>\n",
       "      <td>1</td>\n",
       "      <td>0</td>\n",
       "      <td>0</td>\n",
       "      <td>0</td>\n",
       "      <td>0</td>\n",
       "      <td>0</td>\n",
       "      <td>0</td>\n",
       "      <td>0</td>\n",
       "      <td>0</td>\n",
       "      <td>0</td>\n",
       "      <td>0</td>\n",
       "      <td>0</td>\n",
       "      <td>0</td>\n",
       "      <td>0</td>\n",
       "      <td>0</td>\n",
       "      <td>0</td>\n",
       "      <td>0</td>\n",
       "      <td>0</td>\n",
       "      <td>0</td>\n",
       "      <td>0</td>\n",
       "      <td>0</td>\n",
       "      <td>0</td>\n",
       "      <td>0</td>\n",
       "      <td>0</td>\n",
       "      <td>0</td>\n",
       "      <td>0</td>\n",
       "      <td>0</td>\n",
       "      <td>0</td>\n",
       "      <td>0</td>\n",
       "      <td>0</td>\n",
       "      <td>0</td>\n",
       "      <td>0</td>\n",
       "      <td>0</td>\n",
       "      <td>0</td>\n",
       "      <td>0</td>\n",
       "      <td>0</td>\n",
       "      <td>0</td>\n",
       "      <td>0</td>\n",
       "      <td>0</td>\n",
       "      <td>0</td>\n",
       "      <td>0</td>\n",
       "      <td>0</td>\n",
       "      <td>1</td>\n",
       "      <td>0</td>\n",
       "      <td>0</td>\n",
       "      <td>0</td>\n",
       "      <td>0</td>\n",
       "      <td>0</td>\n",
       "      <td>0</td>\n",
       "      <td>0</td>\n",
       "    </tr>\n",
       "    <tr>\n",
       "      <th>36533</th>\n",
       "      <td>0</td>\n",
       "      <td>37.262607</td>\n",
       "      <td>-119.511139</td>\n",
       "      <td>83.165726</td>\n",
       "      <td>83.165726</td>\n",
       "      <td>82.700000</td>\n",
       "      <td>2.649395</td>\n",
       "      <td>2.649395</td>\n",
       "      <td>2.667722</td>\n",
       "      <td>43.755556</td>\n",
       "      <td>43.755556</td>\n",
       "      <td>44.443975</td>\n",
       "      <td>0.0</td>\n",
       "      <td>0.0</td>\n",
       "      <td>0.0</td>\n",
       "      <td>0.097682</td>\n",
       "      <td>1</td>\n",
       "      <td>7</td>\n",
       "      <td>2015</td>\n",
       "      <td>83.010484</td>\n",
       "      <td>0</td>\n",
       "      <td>0</td>\n",
       "      <td>3</td>\n",
       "      <td>3</td>\n",
       "      <td>3</td>\n",
       "      <td>0</td>\n",
       "      <td>0</td>\n",
       "      <td>0</td>\n",
       "      <td>0</td>\n",
       "      <td>1</td>\n",
       "      <td>0</td>\n",
       "      <td>0</td>\n",
       "      <td>0</td>\n",
       "      <td>0</td>\n",
       "      <td>0</td>\n",
       "      <td>0</td>\n",
       "      <td>0</td>\n",
       "      <td>0</td>\n",
       "      <td>0</td>\n",
       "      <td>1</td>\n",
       "      <td>0</td>\n",
       "      <td>0</td>\n",
       "      <td>0</td>\n",
       "      <td>0</td>\n",
       "      <td>0</td>\n",
       "      <td>0</td>\n",
       "      <td>0</td>\n",
       "      <td>0</td>\n",
       "      <td>0</td>\n",
       "      <td>0</td>\n",
       "      <td>0</td>\n",
       "      <td>0</td>\n",
       "      <td>0</td>\n",
       "      <td>0</td>\n",
       "      <td>0</td>\n",
       "      <td>0</td>\n",
       "      <td>0</td>\n",
       "      <td>0</td>\n",
       "      <td>0</td>\n",
       "      <td>0</td>\n",
       "      <td>0</td>\n",
       "      <td>0</td>\n",
       "      <td>0</td>\n",
       "      <td>0</td>\n",
       "      <td>0</td>\n",
       "      <td>0</td>\n",
       "      <td>0</td>\n",
       "      <td>0</td>\n",
       "      <td>0</td>\n",
       "      <td>0</td>\n",
       "      <td>0</td>\n",
       "      <td>0</td>\n",
       "      <td>0</td>\n",
       "      <td>0</td>\n",
       "      <td>0</td>\n",
       "      <td>0</td>\n",
       "      <td>0</td>\n",
       "      <td>0</td>\n",
       "      <td>0</td>\n",
       "      <td>0</td>\n",
       "      <td>0</td>\n",
       "      <td>0</td>\n",
       "      <td>0</td>\n",
       "      <td>0</td>\n",
       "      <td>0</td>\n",
       "      <td>0</td>\n",
       "      <td>0</td>\n",
       "      <td>0</td>\n",
       "      <td>0</td>\n",
       "      <td>0</td>\n",
       "      <td>0</td>\n",
       "      <td>0</td>\n",
       "      <td>0</td>\n",
       "      <td>1</td>\n",
       "      <td>0</td>\n",
       "      <td>0</td>\n",
       "      <td>0</td>\n",
       "      <td>1</td>\n",
       "      <td>1</td>\n",
       "      <td>1</td>\n",
       "    </tr>\n",
       "    <tr>\n",
       "      <th>36534</th>\n",
       "      <td>0</td>\n",
       "      <td>38.843988</td>\n",
       "      <td>-122.759707</td>\n",
       "      <td>70.862404</td>\n",
       "      <td>70.362500</td>\n",
       "      <td>71.533571</td>\n",
       "      <td>1.795485</td>\n",
       "      <td>1.628065</td>\n",
       "      <td>1.036905</td>\n",
       "      <td>50.521912</td>\n",
       "      <td>46.310627</td>\n",
       "      <td>37.178571</td>\n",
       "      <td>0.3</td>\n",
       "      <td>0.3</td>\n",
       "      <td>0.0</td>\n",
       "      <td>0.167305</td>\n",
       "      <td>1</td>\n",
       "      <td>9</td>\n",
       "      <td>2015</td>\n",
       "      <td>70.919492</td>\n",
       "      <td>0</td>\n",
       "      <td>1</td>\n",
       "      <td>2</td>\n",
       "      <td>2</td>\n",
       "      <td>2</td>\n",
       "      <td>0</td>\n",
       "      <td>0</td>\n",
       "      <td>0</td>\n",
       "      <td>0</td>\n",
       "      <td>0</td>\n",
       "      <td>0</td>\n",
       "      <td>0</td>\n",
       "      <td>0</td>\n",
       "      <td>0</td>\n",
       "      <td>0</td>\n",
       "      <td>1</td>\n",
       "      <td>0</td>\n",
       "      <td>0</td>\n",
       "      <td>0</td>\n",
       "      <td>1</td>\n",
       "      <td>0</td>\n",
       "      <td>0</td>\n",
       "      <td>0</td>\n",
       "      <td>0</td>\n",
       "      <td>0</td>\n",
       "      <td>0</td>\n",
       "      <td>0</td>\n",
       "      <td>0</td>\n",
       "      <td>0</td>\n",
       "      <td>0</td>\n",
       "      <td>0</td>\n",
       "      <td>0</td>\n",
       "      <td>0</td>\n",
       "      <td>0</td>\n",
       "      <td>0</td>\n",
       "      <td>0</td>\n",
       "      <td>0</td>\n",
       "      <td>0</td>\n",
       "      <td>0</td>\n",
       "      <td>0</td>\n",
       "      <td>0</td>\n",
       "      <td>0</td>\n",
       "      <td>0</td>\n",
       "      <td>0</td>\n",
       "      <td>0</td>\n",
       "      <td>0</td>\n",
       "      <td>0</td>\n",
       "      <td>0</td>\n",
       "      <td>0</td>\n",
       "      <td>0</td>\n",
       "      <td>0</td>\n",
       "      <td>0</td>\n",
       "      <td>0</td>\n",
       "      <td>0</td>\n",
       "      <td>0</td>\n",
       "      <td>0</td>\n",
       "      <td>0</td>\n",
       "      <td>0</td>\n",
       "      <td>0</td>\n",
       "      <td>0</td>\n",
       "      <td>0</td>\n",
       "      <td>0</td>\n",
       "      <td>0</td>\n",
       "      <td>0</td>\n",
       "      <td>0</td>\n",
       "      <td>0</td>\n",
       "      <td>0</td>\n",
       "      <td>0</td>\n",
       "      <td>0</td>\n",
       "      <td>0</td>\n",
       "      <td>0</td>\n",
       "      <td>0</td>\n",
       "      <td>0</td>\n",
       "      <td>1</td>\n",
       "      <td>0</td>\n",
       "      <td>0</td>\n",
       "      <td>0</td>\n",
       "      <td>0</td>\n",
       "      <td>1</td>\n",
       "      <td>1</td>\n",
       "    </tr>\n",
       "  </tbody>\n",
       "</table>\n",
       "<p>36535 rows × 100 columns</p>\n",
       "</div>"
      ],
      "text/plain": [
       "       stat_cause_descr   latitude   longitude  Temp_pre_30  Temp_pre_15  \\\n",
       "0                     0  18.105072  -66.753044    76.065753    76.490462   \n",
       "1                     0  35.038330  -87.610000    45.596180    44.618000   \n",
       "2                     0  34.947800  -88.722500    40.949474    42.408979   \n",
       "3                     0  39.641400 -119.308300    61.296741    66.193126   \n",
       "4                     0  30.904720  -93.557500    62.333490    62.596009   \n",
       "...                 ...        ...         ...          ...          ...   \n",
       "36530                 0  37.606667  -96.422500    38.635038    37.471742   \n",
       "36531                 0  40.394700 -104.564600    67.722291    66.728555   \n",
       "36532                 0  39.180000  -96.784167    67.497438    62.404308   \n",
       "36533                 0  37.262607 -119.511139    83.165726    83.165726   \n",
       "36534                 0  38.843988 -122.759707    70.862404    70.362500   \n",
       "\n",
       "       Temp_pre_7  Wind_pre_30  Wind_pre_15  Wind_pre_7  Hum_pre_30  \\\n",
       "0       76.824675     4.341807     3.492857    3.262092   78.216590   \n",
       "1       32.618353     2.709764     2.881707    1.976471   70.840000   \n",
       "2       42.005750     3.364499     2.923830    2.695833   75.531629   \n",
       "3       64.656615     4.054982     3.398329    3.671282   44.778429   \n",
       "4       68.782609     1.331257     1.472949    1.424783   72.899478   \n",
       "...           ...          ...          ...         ...         ...   \n",
       "36530   39.987614     5.100510     5.694737    4.975000   62.971774   \n",
       "36531   65.620761     2.507911     2.553364    2.638542   51.010341   \n",
       "36532   66.054190     3.259176     2.705398    3.196648   65.671410   \n",
       "36533   82.700000     2.649395     2.649395    2.667722   43.755556   \n",
       "36534   71.533571     1.795485     1.628065    1.036905   50.521912   \n",
       "\n",
       "       Hum_pre_15  Hum_pre_7  Prec_pre_30  Prec_pre_15  Prec_pre_7  \\\n",
       "0       76.793750  76.381579          0.0          0.0         0.0   \n",
       "1       65.858911  55.505882         59.8          8.4         0.0   \n",
       "2       75.868613  76.812834        168.8         42.2        18.1   \n",
       "3       37.140811  35.353846         10.4          7.2         0.0   \n",
       "4       75.061381  77.924623         28.4         27.5         1.2   \n",
       "...           ...        ...          ...          ...         ...   \n",
       "36530   69.376658  68.118919         20.1         18.8         0.0   \n",
       "36531   50.264501  48.204861          4.6          0.0         0.0   \n",
       "36532   61.839572  54.625698         35.4          8.2         0.0   \n",
       "36533   43.755556  44.443975          0.0          0.0         0.0   \n",
       "36534   46.310627  37.178571          0.3          0.3         0.0   \n",
       "\n",
       "       remoteness  target  month  year   temp_avg  is_remote  did_rain  \\\n",
       "0        0.017923       0      2  2007  76.460297          0         0   \n",
       "1        0.184355       0     12  2006  40.944178          0         1   \n",
       "2        0.194544       0      2  2004  41.788067          0         1   \n",
       "3        0.487447       0      6  2005  64.048828          0         1   \n",
       "4        0.241894       0     11  2005  64.570703          0         1   \n",
       "...           ...     ...    ...   ...        ...        ...       ...   \n",
       "36530    0.365622       1      2  2015  38.698132          0         1   \n",
       "36531    0.199532       1      9  2015  66.690536          0         1   \n",
       "36532    0.331501       1     10  2015  65.318645          0         1   \n",
       "36533    0.097682       1      7  2015  83.010484          0         0   \n",
       "36534    0.167305       1      9  2015  70.919492          0         1   \n",
       "\n",
       "       Temp_pre_30_bin  Temp_pre_15_bin  Temp_pre_7_bin  discovery_month_Aug  \\\n",
       "0                    3                3               3                    0   \n",
       "1                    0                0               0                    0   \n",
       "2                    0                0               0                    0   \n",
       "3                    2                2               2                    0   \n",
       "4                    2                2               2                    0   \n",
       "...                ...              ...             ...                  ...   \n",
       "36530                0                0               0                    0   \n",
       "36531                2                2               2                    0   \n",
       "36532                2                2               2                    0   \n",
       "36533                3                3               3                    0   \n",
       "36534                2                2               2                    0   \n",
       "\n",
       "       discovery_month_Dec  discovery_month_Feb  discovery_month_Jan  \\\n",
       "0                        0                    1                    0   \n",
       "1                        1                    0                    0   \n",
       "2                        0                    1                    0   \n",
       "3                        0                    0                    0   \n",
       "4                        0                    0                    0   \n",
       "...                    ...                  ...                  ...   \n",
       "36530                    0                    1                    0   \n",
       "36531                    0                    0                    0   \n",
       "36532                    0                    0                    0   \n",
       "36533                    0                    0                    0   \n",
       "36534                    0                    0                    0   \n",
       "\n",
       "       discovery_month_Jul  discovery_month_Jun  discovery_month_Mar  \\\n",
       "0                        0                    0                    0   \n",
       "1                        0                    0                    0   \n",
       "2                        0                    0                    0   \n",
       "3                        0                    1                    0   \n",
       "4                        0                    0                    0   \n",
       "...                    ...                  ...                  ...   \n",
       "36530                    0                    0                    0   \n",
       "36531                    0                    0                    0   \n",
       "36532                    0                    0                    0   \n",
       "36533                    1                    0                    0   \n",
       "36534                    0                    0                    0   \n",
       "\n",
       "       discovery_month_May  discovery_month_Nov  discovery_month_Oct  \\\n",
       "0                        0                    0                    0   \n",
       "1                        0                    0                    0   \n",
       "2                        0                    0                    0   \n",
       "3                        0                    0                    0   \n",
       "4                        0                    1                    0   \n",
       "...                    ...                  ...                  ...   \n",
       "36530                    0                    0                    0   \n",
       "36531                    0                    0                    0   \n",
       "36532                    0                    0                    1   \n",
       "36533                    0                    0                    0   \n",
       "36534                    0                    0                    0   \n",
       "\n",
       "       discovery_month_Sep  state_AL  state_AR  state_AZ  state_CA  state_CO  \\\n",
       "0                        0         0         0         0         0         0   \n",
       "1                        0         0         0         0         0         0   \n",
       "2                        0         0         0         0         0         0   \n",
       "3                        0         0         0         0         0         0   \n",
       "4                        0         0         0         0         0         0   \n",
       "...                    ...       ...       ...       ...       ...       ...   \n",
       "36530                    0         0         0         0         0         0   \n",
       "36531                    1         0         0         0         0         1   \n",
       "36532                    0         0         0         0         0         0   \n",
       "36533                    0         0         0         0         1         0   \n",
       "36534                    1         0         0         0         1         0   \n",
       "\n",
       "       state_CT  state_DE  state_FL  state_GA  state_HI  state_IA  state_ID  \\\n",
       "0             0         0         0         0         0         0         0   \n",
       "1             0         0         0         0         0         0         0   \n",
       "2             0         0         0         0         0         0         0   \n",
       "3             0         0         0         0         0         0         0   \n",
       "4             0         0         0         0         0         0         0   \n",
       "...         ...       ...       ...       ...       ...       ...       ...   \n",
       "36530         0         0         0         0         0         0         0   \n",
       "36531         0         0         0         0         0         0         0   \n",
       "36532         0         0         0         0         0         0         0   \n",
       "36533         0         0         0         0         0         0         0   \n",
       "36534         0         0         0         0         0         0         0   \n",
       "\n",
       "       state_IL  state_IN  state_KS  state_KY  state_LA  state_MA  state_MD  \\\n",
       "0             0         0         0         0         0         0         0   \n",
       "1             0         0         0         0         0         0         0   \n",
       "2             0         0         0         0         0         0         0   \n",
       "3             0         0         0         0         0         0         0   \n",
       "4             0         0         0         0         0         0         0   \n",
       "...         ...       ...       ...       ...       ...       ...       ...   \n",
       "36530         0         0         1         0         0         0         0   \n",
       "36531         0         0         0         0         0         0         0   \n",
       "36532         0         0         1         0         0         0         0   \n",
       "36533         0         0         0         0         0         0         0   \n",
       "36534         0         0         0         0         0         0         0   \n",
       "\n",
       "       state_ME  state_MI  state_MN  state_MO  state_MS  state_MT  state_NC  \\\n",
       "0             0         0         0         0         0         0         0   \n",
       "1             0         0         0         0         0         0         0   \n",
       "2             0         0         0         0         1         0         0   \n",
       "3             0         0         0         0         0         0         0   \n",
       "4             0         0         0         0         0         0         0   \n",
       "...         ...       ...       ...       ...       ...       ...       ...   \n",
       "36530         0         0         0         0         0         0         0   \n",
       "36531         0         0         0         0         0         0         0   \n",
       "36532         0         0         0         0         0         0         0   \n",
       "36533         0         0         0         0         0         0         0   \n",
       "36534         0         0         0         0         0         0         0   \n",
       "\n",
       "       state_ND  state_NE  state_NH  state_NJ  state_NM  state_NV  state_NY  \\\n",
       "0             0         0         0         0         0         0         0   \n",
       "1             0         0         0         0         0         0         0   \n",
       "2             0         0         0         0         0         0         0   \n",
       "3             0         0         0         0         0         1         0   \n",
       "4             0         0         0         0         0         0         0   \n",
       "...         ...       ...       ...       ...       ...       ...       ...   \n",
       "36530         0         0         0         0         0         0         0   \n",
       "36531         0         0         0         0         0         0         0   \n",
       "36532         0         0         0         0         0         0         0   \n",
       "36533         0         0         0         0         0         0         0   \n",
       "36534         0         0         0         0         0         0         0   \n",
       "\n",
       "       state_OH  state_OK  state_OR  state_PA  state_PR  state_RI  state_SC  \\\n",
       "0             0         0         0         0         1         0         0   \n",
       "1             0         0         0         0         0         0         0   \n",
       "2             0         0         0         0         0         0         0   \n",
       "3             0         0         0         0         0         0         0   \n",
       "4             0         0         0         0         0         0         0   \n",
       "...         ...       ...       ...       ...       ...       ...       ...   \n",
       "36530         0         0         0         0         0         0         0   \n",
       "36531         0         0         0         0         0         0         0   \n",
       "36532         0         0         0         0         0         0         0   \n",
       "36533         0         0         0         0         0         0         0   \n",
       "36534         0         0         0         0         0         0         0   \n",
       "\n",
       "       state_SD  state_TN  state_TX  state_UT  state_VA  state_VT  state_WA  \\\n",
       "0             0         0         0         0         0         0         0   \n",
       "1             0         1         0         0         0         0         0   \n",
       "2             0         0         0         0         0         0         0   \n",
       "3             0         0         0         0         0         0         0   \n",
       "4             0         0         1         0         0         0         0   \n",
       "...         ...       ...       ...       ...       ...       ...       ...   \n",
       "36530         0         0         0         0         0         0         0   \n",
       "36531         0         0         0         0         0         0         0   \n",
       "36532         0         0         0         0         0         0         0   \n",
       "36533         0         0         0         0         0         0         0   \n",
       "36534         0         0         0         0         0         0         0   \n",
       "\n",
       "       state_WI  state_WV  state_WY  Vegetation_4  Vegetation_9  \\\n",
       "0             0         0         0             0             0   \n",
       "1             0         0         0             0             0   \n",
       "2             0         0         0             0             0   \n",
       "3             0         0         0             0             0   \n",
       "4             0         0         0             0             0   \n",
       "...         ...       ...       ...           ...           ...   \n",
       "36530         0         0         0             0             0   \n",
       "36531         0         0         0             0             0   \n",
       "36532         0         0         0             0             0   \n",
       "36533         0         0         0             0             0   \n",
       "36534         0         0         0             0             0   \n",
       "\n",
       "       Vegetation_12  Vegetation_14  Vegetation_15  Vegetation_16  \\\n",
       "0                  1              0              0              0   \n",
       "1                  0              0              1              0   \n",
       "2                  0              0              0              1   \n",
       "3                  0              0              0              0   \n",
       "4                  1              0              0              0   \n",
       "...              ...            ...            ...            ...   \n",
       "36530              0              0              0              0   \n",
       "36531              0              1              0              0   \n",
       "36532              0              0              0              0   \n",
       "36533              0              0              0              0   \n",
       "36534              0              0              0              0   \n",
       "\n",
       "       longitude_bin  west_coast  very_windy_30  very_windy_15  very_windy_7  \\\n",
       "0                  3           0              1              1             1   \n",
       "1                  2           0              0              0             0   \n",
       "2                  2           0              0              0             0   \n",
       "3                  0           1              1              1             1   \n",
       "4                  1           0              0              0             0   \n",
       "...              ...         ...            ...            ...           ...   \n",
       "36530              1           0              1              1             1   \n",
       "36531              1           1              0              0             0   \n",
       "36532              1           0              0              0             0   \n",
       "36533              0           1              0              0             0   \n",
       "36534              0           1              0              0             0   \n",
       "\n",
       "       low_humid_30  low_humid_15  low_humid_7  \n",
       "0                 0             0            0  \n",
       "1                 0             0            0  \n",
       "2                 0             0            0  \n",
       "3                 1             1            1  \n",
       "4                 0             0            0  \n",
       "...             ...           ...          ...  \n",
       "36530             0             0            0  \n",
       "36531             0             0            1  \n",
       "36532             0             0            0  \n",
       "36533             1             1            1  \n",
       "36534             0             1            1  \n",
       "\n",
       "[36535 rows x 100 columns]"
      ]
     },
     "execution_count": 5,
     "metadata": {},
     "output_type": "execute_result"
    }
   ],
   "source": [
    "df"
   ]
  },
  {
   "cell_type": "markdown",
   "metadata": {},
   "source": [
    "# Baseline Train Test Split"
   ]
  },
  {
   "cell_type": "code",
   "execution_count": 6,
   "metadata": {},
   "outputs": [],
   "source": [
    "# Creating Feature data frame and Target data frame\n",
    "X = df.drop(columns='target',axis=1)\n",
    "y = df['target']\n",
    "\n",
    "# Creating Train Test Split\n",
    "X_train, X_test, y_train, y_test = train_test_split(X, y, random_state=1)\n",
    "\n",
    "# Scaling is Needed for Knn\n",
    "scaler = StandardScaler()  \n",
    "scaler.fit(X_train)\n",
    "\n",
    "X_train = scaler.transform(X_train)  \n",
    "X_test = scaler.transform(X_test)"
   ]
  },
  {
   "cell_type": "markdown",
   "metadata": {},
   "source": [
    "# Baseline Models"
   ]
  },
  {
   "cell_type": "markdown",
   "metadata": {},
   "source": [
    "All 3 of the below models use basic parameters to give baseline information."
   ]
  },
  {
   "cell_type": "code",
   "execution_count": 16,
   "metadata": {},
   "outputs": [],
   "source": [
    "def LogRegTest(input_x,input_y):\n",
    "    lr = LogisticRegression(random_state=1,C=1e9)\n",
    "    lr.fit(input_x,input_y)\n",
    "    pred_train = lr.predict(input_x)\n",
    "    score = f1_score(input_y,pred_train,zero_division=1)\n",
    "    return score"
   ]
  },
  {
   "cell_type": "code",
   "execution_count": 17,
   "metadata": {},
   "outputs": [],
   "source": [
    "def KnnTest(input_x,input_y):\n",
    "    knn = KNeighborsClassifier(n_neighbors=5,algorithm='auto',weights='uniform')\n",
    "    knn.fit(input_x,input_y)\n",
    "    pred_train = knn.predict(input_x)\n",
    "    score = f1_score(input_y,pred_train,zero_division=1)\n",
    "    return score"
   ]
  },
  {
   "cell_type": "code",
   "execution_count": 18,
   "metadata": {},
   "outputs": [],
   "source": [
    "def DTreeTest(input_x,input_y):\n",
    "    tree = DecisionTreeClassifier(max_depth=12, min_samples_split=17,criterion='gini',min_samples_leaf=4)\n",
    "    tree.fit(input_x,input_y)\n",
    "    pred_train = tree.predict(input_x)\n",
    "    score = f1_score(input_y,pred_train,zero_division=1)\n",
    "    return score"
   ]
  },
  {
   "cell_type": "code",
   "execution_count": 19,
   "metadata": {},
   "outputs": [],
   "source": [
    "def three_class_test(X_train,y_train):\n",
    "    print('LogReg F1: ', LogRegTest(X_train,y_train))\n",
    "    print('Knn F1: ', KnnTest(X_train,y_train))\n",
    "    print('Dtree F1: ', DTreeTest(X_train,y_train))\n",
    "    return"
   ]
  },
  {
   "cell_type": "markdown",
   "metadata": {},
   "source": [
    "# Baseline with Test Scores"
   ]
  },
  {
   "cell_type": "code",
   "execution_count": 21,
   "metadata": {
    "scrolled": true
   },
   "outputs": [
    {
     "name": "stdout",
     "output_type": "stream",
     "text": [
      "Train:  0.6869526495472763\n",
      "Test:  0.6924137931034484\n"
     ]
    }
   ],
   "source": [
    "# Logistic Regression\n",
    "lr = LogisticRegression(random_state=2)\n",
    "\n",
    "lr.fit(X_train,y_train)\n",
    "\n",
    "pred_train = lr.predict(X_train)\n",
    "\n",
    "pred_test = lr.predict(X_test)\n",
    "\n",
    "score_train = f1_score(y_train,pred_train)\n",
    "score_test = f1_score(y_test,pred_test)\n",
    "\n",
    "print('Train: ',score_train)\n",
    "print('Test: ',score_test)"
   ]
  },
  {
   "cell_type": "code",
   "execution_count": 22,
   "metadata": {},
   "outputs": [
    {
     "name": "stdout",
     "output_type": "stream",
     "text": [
      "Train:  0.6869526495472763\n",
      "Test:  0.6924137931034484\n"
     ]
    }
   ],
   "source": [
    "# KNN\n",
    "knn = KNeighborsClassifier(n_neighbors=5)\n",
    "\n",
    "knn.fit(X_train, y_train)\n",
    "\n",
    "y_pred_train = knn.predict(X_train)\n",
    "\n",
    "y_pred_test = knn.predict(X_test)\n",
    "\n",
    "score_train = f1_score(y_train,pred_train)\n",
    "score_test = f1_score(y_test,pred_test)\n",
    "\n",
    "print('Train: ',score_train)\n",
    "print('Test: ',score_test)"
   ]
  },
  {
   "cell_type": "code",
   "execution_count": 23,
   "metadata": {
    "scrolled": false
   },
   "outputs": [
    {
     "name": "stdout",
     "output_type": "stream",
     "text": [
      "Train:  1.0\n",
      "Test:  0.7305644302449416\n"
     ]
    }
   ],
   "source": [
    "#Decision Tree\n",
    "tree = DecisionTreeClassifier()\n",
    "\n",
    "tree = tree.fit(X_train,y_train)\n",
    "\n",
    "pred_train = tree.predict(X_train)\n",
    "\n",
    "pred_test = tree.predict(X_test)\n",
    "\n",
    "score_train = f1_score(y_train,pred_train)\n",
    "score_test = f1_score(y_test,pred_test)\n",
    "\n",
    "print('Train: ',score_train)\n",
    "print('Test: ',score_test)"
   ]
  },
  {
   "cell_type": "markdown",
   "metadata": {},
   "source": [
    "Quite good results but as you can see there is a lot of over fitting with the decision tree. In order to improve results feature selection will be performed to identify the most important features."
   ]
  },
  {
   "cell_type": "markdown",
   "metadata": {},
   "source": [
    "# Feature Selection"
   ]
  },
  {
   "cell_type": "code",
   "execution_count": 24,
   "metadata": {},
   "outputs": [],
   "source": [
    "# Creating a train test split\n",
    "X_train, X_test, y_train, y_test = train_test_split(X,y,random_state = 99, test_size=0.2)"
   ]
  },
  {
   "cell_type": "markdown",
   "metadata": {},
   "source": [
    "### Filter Method Feature Selection"
   ]
  },
  {
   "cell_type": "code",
   "execution_count": 25,
   "metadata": {},
   "outputs": [],
   "source": [
    "from sklearn.feature_selection import chi2, f_classif, mutual_info_classif"
   ]
  },
  {
   "cell_type": "code",
   "execution_count": 26,
   "metadata": {
    "scrolled": true
   },
   "outputs": [],
   "source": [
    "# instantiating a feature selector object\n",
    "feature_selector = SelectKBest(mutual_info_classif,15)\n",
    "\n",
    "# fitting to our data\n",
    "feature_selector.fit(X_train,y_train)\n",
    "\n",
    "# features that we keep\n",
    "selected_filter = X_train.columns[feature_selector.get_support()]"
   ]
  },
  {
   "cell_type": "code",
   "execution_count": 27,
   "metadata": {},
   "outputs": [
    {
     "name": "stdout",
     "output_type": "stream",
     "text": [
      "LogReg F1:  0.39080459770114945\n",
      "Knn F1:  0.6587261785356069\n",
      "Dtree F1:  0.8358473824312334\n"
     ]
    }
   ],
   "source": [
    "three_class_test(X_train[selected_filter],y_train)"
   ]
  },
  {
   "cell_type": "markdown",
   "metadata": {},
   "source": [
    "### Recursive Feature Elimination"
   ]
  },
  {
   "cell_type": "code",
   "execution_count": 28,
   "metadata": {
    "scrolled": true
   },
   "outputs": [],
   "source": [
    "# Using Logistic Regression as the estimation of 'goodness'\n",
    "estimator = LogisticRegression()\n",
    "# creating a selector object\n",
    "feature_selector = RFECV(estimator=estimator, step=1, cv=5,n_jobs=-1,min_features_to_select=8)\n",
    "# fitting to our data\n",
    "feature_selector.fit(X_train, y_train)\n",
    "# Extracting most important features\n",
    "selected_wrapper = X_train.columns[feature_selector.support_]"
   ]
  },
  {
   "cell_type": "code",
   "execution_count": 29,
   "metadata": {},
   "outputs": [
    {
     "name": "stdout",
     "output_type": "stream",
     "text": [
      "LogReg F1:  0.671244635193133\n",
      "Knn F1:  0.7944142746314973\n",
      "Dtree F1:  0.7839169218479564\n"
     ]
    }
   ],
   "source": [
    "three_class_test(X_train[selected_wrapper],y_train)"
   ]
  },
  {
   "cell_type": "markdown",
   "metadata": {},
   "source": [
    "# Train Test Split Creation"
   ]
  },
  {
   "cell_type": "code",
   "execution_count": 30,
   "metadata": {},
   "outputs": [],
   "source": [
    "X = df.drop(columns='target',axis=1)\n",
    "y = df['target']\n",
    "X_train, X_test, y_train, y_test = train_test_split(X,y,random_state = 99, test_size=0.2)\n",
    "\n",
    "X_train = X_train[selected_filter]\n",
    "X_test = X_test[selected_filter]"
   ]
  },
  {
   "cell_type": "markdown",
   "metadata": {},
   "source": [
    "# Class Imbalance Handling"
   ]
  },
  {
   "cell_type": "markdown",
   "metadata": {},
   "source": [
    "## Upsampling using reampling"
   ]
  },
  {
   "cell_type": "code",
   "execution_count": 31,
   "metadata": {},
   "outputs": [],
   "source": [
    "# isolating training data\n",
    "training = pd.concat([X_train,y_train],axis=1)"
   ]
  },
  {
   "cell_type": "code",
   "execution_count": 32,
   "metadata": {},
   "outputs": [],
   "source": [
    "# splitting by target value\n",
    "large = training[training.target == 1]\n",
    "small = training[training.target == 0]"
   ]
  },
  {
   "cell_type": "code",
   "execution_count": 33,
   "metadata": {},
   "outputs": [
    {
     "name": "stdout",
     "output_type": "stream",
     "text": [
      "large count: 4512\n",
      "small count: 24716\n"
     ]
    }
   ],
   "source": [
    "print('large count: '+ str(len(large)))\n",
    "print('small count: '+ str(len(small)))"
   ]
  },
  {
   "cell_type": "code",
   "execution_count": 34,
   "metadata": {},
   "outputs": [],
   "source": [
    "from sklearn.utils import resample"
   ]
  },
  {
   "cell_type": "code",
   "execution_count": 35,
   "metadata": {},
   "outputs": [
    {
     "name": "stdout",
     "output_type": "stream",
     "text": [
      "Size of upsampled large:  24716\n"
     ]
    }
   ],
   "source": [
    "# upsampling with replacement to match majority class size\n",
    "large_upsampled = resample(large,\n",
    "                        replace=True,\n",
    "                        n_samples=len(small),\n",
    "                        random_state=99)\n",
    "print('Size of upsampled large: ',len(large_upsampled))"
   ]
  },
  {
   "cell_type": "code",
   "execution_count": 36,
   "metadata": {},
   "outputs": [],
   "source": [
    "# combining back together\n",
    "upsampled = pd.concat([small,large_upsampled])"
   ]
  },
  {
   "cell_type": "code",
   "execution_count": 37,
   "metadata": {},
   "outputs": [],
   "source": [
    "# creating training data\n",
    "X_train_upsample = upsampled.drop(columns='target')\n",
    "y_train_upsample = upsampled.target"
   ]
  },
  {
   "cell_type": "markdown",
   "metadata": {},
   "source": [
    "# Over-sampling SMOTE"
   ]
  },
  {
   "cell_type": "code",
   "execution_count": 38,
   "metadata": {},
   "outputs": [],
   "source": [
    "from imblearn.over_sampling import SMOTE"
   ]
  },
  {
   "cell_type": "code",
   "execution_count": 39,
   "metadata": {},
   "outputs": [],
   "source": [
    "# creating synthetic rows using SMOTE\n",
    "sm = SMOTE(random_state=99)\n",
    "X_train_smote, y_train_smote = sm.fit_sample(X_train,y_train)"
   ]
  },
  {
   "cell_type": "markdown",
   "metadata": {},
   "source": [
    "# Normal Downsampling"
   ]
  },
  {
   "cell_type": "code",
   "execution_count": 40,
   "metadata": {},
   "outputs": [],
   "source": [
    "small_downsampled = resample(small,\n",
    "                            replace = False,\n",
    "                            n_samples=len(small),\n",
    "                            random_state=90)"
   ]
  },
  {
   "cell_type": "code",
   "execution_count": 41,
   "metadata": {},
   "outputs": [],
   "source": [
    "downsampled = pd.concat([small_downsampled,large])"
   ]
  },
  {
   "cell_type": "code",
   "execution_count": 42,
   "metadata": {},
   "outputs": [],
   "source": [
    "X_train_downsample = downsampled.drop(columns='target')\n",
    "y_train_downsample = downsampled.target"
   ]
  },
  {
   "cell_type": "markdown",
   "metadata": {},
   "source": [
    "# Tomek Links DownSampling"
   ]
  },
  {
   "cell_type": "code",
   "execution_count": 43,
   "metadata": {},
   "outputs": [],
   "source": [
    "from collections import Counter\n",
    "from imblearn.under_sampling import TomekLinks"
   ]
  },
  {
   "cell_type": "code",
   "execution_count": 44,
   "metadata": {},
   "outputs": [
    {
     "name": "stdout",
     "output_type": "stream",
     "text": [
      "Resampled dataset shape Counter({0: 23729, 1: 4512})\n"
     ]
    }
   ],
   "source": [
    "tl = TomekLinks()\n",
    "X_res, y_res = tl.fit_resample(X_train, y_train)\n",
    "print('Resampled dataset shape %s' % Counter(y_res))"
   ]
  },
  {
   "cell_type": "code",
   "execution_count": 45,
   "metadata": {},
   "outputs": [],
   "source": [
    "# remove Tomek links\n",
    "tl = TomekLinks()\n",
    "X_train_tomek, y_train_tomek = tl.fit_sample(X_train, y_train)"
   ]
  },
  {
   "cell_type": "markdown",
   "metadata": {},
   "source": [
    "## Testing Smote and Upsampling"
   ]
  },
  {
   "cell_type": "code",
   "execution_count": 47,
   "metadata": {},
   "outputs": [
    {
     "name": "stdout",
     "output_type": "stream",
     "text": [
      "LogReg F1:  0.7723562415183002\n",
      "Knn F1:  0.9261159956228067\n",
      "Dtree F1:  0.9200600835408136\n"
     ]
    }
   ],
   "source": [
    "# Upsampling\n",
    "three_class_test(X_train_upsample[selected_filter],y_train_upsample)"
   ]
  },
  {
   "cell_type": "code",
   "execution_count": 48,
   "metadata": {
    "scrolled": true
   },
   "outputs": [
    {
     "name": "stdout",
     "output_type": "stream",
     "text": [
      "LogReg F1:  0.7689551266389771\n",
      "Knn F1:  0.9237136675759571\n",
      "Dtree F1:  0.9126258977519017\n"
     ]
    }
   ],
   "source": [
    "# SMOTE\n",
    "three_class_test(X_train_smote[selected_filter],y_train_smote)"
   ]
  },
  {
   "cell_type": "code",
   "execution_count": 49,
   "metadata": {},
   "outputs": [
    {
     "name": "stdout",
     "output_type": "stream",
     "text": [
      "LogReg F1:  0.3956689868522815\n",
      "Knn F1:  0.6587261785356069\n",
      "Dtree F1:  0.8351983723296033\n"
     ]
    }
   ],
   "source": [
    "# Normal Downsampling\n",
    "three_class_test(X_train_downsample[selected_filter],y_train_downsample)"
   ]
  },
  {
   "cell_type": "code",
   "execution_count": 50,
   "metadata": {
    "scrolled": true
   },
   "outputs": [
    {
     "name": "stdout",
     "output_type": "stream",
     "text": [
      "LogReg F1:  0.5290004113533525\n",
      "Knn F1:  0.7002724795640327\n",
      "Dtree F1:  0.8400500625782228\n"
     ]
    }
   ],
   "source": [
    "# Tomek Links downsampling\n",
    "three_class_test(X_train_tomek[selected_filter],y_train_tomek)"
   ]
  },
  {
   "cell_type": "markdown",
   "metadata": {},
   "source": [
    "From this we can see that upsamping and smote are the best method for dealing with class imbalance. Smote will be used from now on as we want a very interpretable model so we care more about logistic regression and decision tree scores."
   ]
  },
  {
   "cell_type": "markdown",
   "metadata": {},
   "source": [
    "# Testing Feature Sets"
   ]
  },
  {
   "cell_type": "code",
   "execution_count": 82,
   "metadata": {},
   "outputs": [],
   "source": [
    "# Creating Train Test split using selected balancing and features\n",
    "X_train_selected = X_train_smote\n",
    "y_train_selected = y_train_smote\n",
    "\n",
    "X_test_selected = X_test[selected_filter]\n",
    "y_test_selected = y_test\n",
    "\n",
    "# Scaling is Needed for Knn\n",
    "scaler = StandardScaler()  \n",
    "scaler.fit(X_train_selected)\n",
    "\n",
    "X_train_selected_scaled = scaler.transform(X_train_selected)  \n",
    "X_test_selected_scaled = scaler.transform(X_test_selected)"
   ]
  },
  {
   "cell_type": "markdown",
   "metadata": {},
   "source": [
    "## With Feature Selection"
   ]
  },
  {
   "cell_type": "code",
   "execution_count": 84,
   "metadata": {
    "scrolled": false
   },
   "outputs": [
    {
     "name": "stdout",
     "output_type": "stream",
     "text": [
      "Train:  0.767960194946879\n",
      "Test:  0.516246583662314\n"
     ]
    }
   ],
   "source": [
    "# Logistic Regression\n",
    "lr = LogisticRegression()\n",
    "\n",
    "lr.fit(X_train_selected,y_train_selected)\n",
    "\n",
    "pred_train = lr.predict(X_train_selected)\n",
    "\n",
    "pred_test = lr.predict(X_test_selected)\n",
    "\n",
    "score_train = f1_score(y_train_selected,pred_train)\n",
    "score_test = f1_score(y_test_selected,pred_test)\n",
    "\n",
    "print('Train: ',score_train)\n",
    "print('Test: ',score_test)"
   ]
  },
  {
   "cell_type": "code",
   "execution_count": 83,
   "metadata": {
    "scrolled": true
   },
   "outputs": [
    {
     "name": "stdout",
     "output_type": "stream",
     "text": [
      "Train:  0.951154052603328\n",
      "Test:  0.6697424067666282\n"
     ]
    }
   ],
   "source": [
    "# KNN\n",
    "knn = KNeighborsClassifier(n_neighbors=5)\n",
    "\n",
    "knn.fit(X_train_selected_scaled, y_train_selected)\n",
    "\n",
    "y_pred_train = knn.predict(X_train_selected_scaled)\n",
    "\n",
    "y_pred_test = knn.predict(X_test_selected_scaled)\n",
    "\n",
    "score_train = f1_score(y_train_selected,y_pred_train)\n",
    "score_test = f1_score(y_test_selected,y_pred_test)\n",
    "\n",
    "print('Train: ',score_train)\n",
    "print('Test: ',score_test)"
   ]
  },
  {
   "cell_type": "code",
   "execution_count": 85,
   "metadata": {
    "scrolled": true
   },
   "outputs": [
    {
     "name": "stdout",
     "output_type": "stream",
     "text": [
      "Train:  1.0\n",
      "Test:  0.6882655077044646\n"
     ]
    }
   ],
   "source": [
    "#Decision Tree\n",
    "tree = DecisionTreeClassifier()\n",
    "\n",
    "tree = tree.fit(X_train_selected,y_train_selected)\n",
    "\n",
    "pred_train = tree.predict(X_train_selected)\n",
    "\n",
    "pred_test = tree.predict(X_test_selected)\n",
    "\n",
    "score_train = f1_score(y_train_selected,pred_train)\n",
    "score_test = f1_score(y_test,pred_test)\n",
    "\n",
    "print('Train: ',score_train)\n",
    "print('Test: ',score_test)"
   ]
  },
  {
   "cell_type": "markdown",
   "metadata": {},
   "source": [
    "The train set results are better but there seems to be overfitting. Grid Searching should fine the optimal hyper parameters for these models."
   ]
  },
  {
   "cell_type": "markdown",
   "metadata": {},
   "source": [
    "# Grid Search"
   ]
  },
  {
   "cell_type": "markdown",
   "metadata": {},
   "source": [
    "## Logistic Regression"
   ]
  },
  {
   "cell_type": "code",
   "execution_count": 88,
   "metadata": {},
   "outputs": [],
   "source": [
    "param_grid = { \n",
    "    'penalty': ['l2'],\n",
    "    'C': [1e9,100,1,0.1,0.05,],\n",
    "    'max_iter':[1000]\n",
    "}"
   ]
  },
  {
   "cell_type": "code",
   "execution_count": 89,
   "metadata": {
    "scrolled": true
   },
   "outputs": [
    {
     "name": "stdout",
     "output_type": "stream",
     "text": [
      "Fitting 10 folds for each of 5 candidates, totalling 50 fits\n"
     ]
    },
    {
     "name": "stderr",
     "output_type": "stream",
     "text": [
      "[Parallel(n_jobs=-1)]: Using backend LokyBackend with 12 concurrent workers.\n",
      "[Parallel(n_jobs=-1)]: Done  26 tasks      | elapsed:   31.8s\n",
      "[Parallel(n_jobs=-1)]: Done  50 out of  50 | elapsed:   46.7s finished\n"
     ]
    },
    {
     "data": {
      "text/plain": [
       "GridSearchCV(cv=10, estimator=LogisticRegression(), n_jobs=-1,\n",
       "             param_grid={'C': [1000000000.0, 100, 1, 0.1, 0.05],\n",
       "                         'max_iter': [1000], 'penalty': ['l2']},\n",
       "             scoring='f1', verbose=1)"
      ]
     },
     "execution_count": 89,
     "metadata": {},
     "output_type": "execute_result"
    }
   ],
   "source": [
    "grid_log=GridSearchCV(LogisticRegression(),\n",
    "                         param_grid, \n",
    "                         cv=10, \n",
    "                         scoring='f1', \n",
    "                         verbose=1, \n",
    "                         n_jobs=-1)\n",
    "\n",
    "grid_log.fit(X_train_selected,y_train_selected)"
   ]
  },
  {
   "cell_type": "code",
   "execution_count": 90,
   "metadata": {},
   "outputs": [
    {
     "name": "stdout",
     "output_type": "stream",
     "text": [
      "0.7687995682591955\n",
      "{'C': 0.05, 'max_iter': 1000, 'penalty': 'l2'}\n",
      "LogisticRegression(C=0.05, max_iter=1000)\n"
     ]
    }
   ],
   "source": [
    "# Single best score achieved across all params (min_samples_split)\n",
    "print(grid_log.best_score_)\n",
    "\n",
    "# Dictionary containing the parameters (min_samples_split) used to generate that score\n",
    "print(grid_log.best_params_)\n",
    "\n",
    "# Actual model object fit with those best parameters\n",
    "# Shows default parameters that we did not specify\n",
    "print(grid_log.best_estimator_)"
   ]
  },
  {
   "cell_type": "code",
   "execution_count": 91,
   "metadata": {
    "scrolled": true
   },
   "outputs": [
    {
     "name": "stdout",
     "output_type": "stream",
     "text": [
      "Accuracy: 0.892021\n",
      "F1: 0.688266\n",
      "Recall: 0.781867\n",
      "Precision: 0.614679\n"
     ]
    }
   ],
   "source": [
    "#Predict the response for test dataset\n",
    "y_pred_test = grid_log.best_estimator_.predict(X_test_selected)\n",
    "\n",
    "y_pred_train = grid_log.best_estimator_.predict(X_train_selected)\n",
    "\n",
    "\n",
    "test_f1 = f1_score(y_test_selected, pred_test)\n",
    "test_acc = accuracy_score(y_test_selected, pred_test)\n",
    "test_recall = recall_score(y_test_selected, pred_test)\n",
    "test_precision = precision_score(y_test_selected,pred_test)\n",
    "\n",
    "print(\"Accuracy: %f\" % (test_acc))\n",
    "print(\"F1: %f\" % (test_f1))\n",
    "print(\"Recall: %f\" % (test_recall))\n",
    "print('Precision: %f' % (test_precision))"
   ]
  },
  {
   "cell_type": "markdown",
   "metadata": {},
   "source": [
    "## Decision Tree"
   ]
  },
  {
   "cell_type": "code",
   "execution_count": 92,
   "metadata": {},
   "outputs": [],
   "source": [
    "X_train, X_test, y_train, y_test = train_test_split(X,y,random_state = 99, test_size=0.2)"
   ]
  },
  {
   "cell_type": "code",
   "execution_count": 93,
   "metadata": {},
   "outputs": [],
   "source": [
    "param_grid={\n",
    "    'criterion': ['gini'],\n",
    "    'max_depth': range(10,15,1),\n",
    "    'min_samples_split': range(1,5,1),\n",
    "    'min_samples_leaf': range(1,5,1)\n",
    "}"
   ]
  },
  {
   "cell_type": "code",
   "execution_count": 94,
   "metadata": {},
   "outputs": [
    {
     "name": "stdout",
     "output_type": "stream",
     "text": [
      "Fitting 10 folds for each of 80 candidates, totalling 800 fits\n"
     ]
    },
    {
     "name": "stderr",
     "output_type": "stream",
     "text": [
      "[Parallel(n_jobs=-1)]: Using backend LokyBackend with 12 concurrent workers.\n",
      "[Parallel(n_jobs=-1)]: Done  30 tasks      | elapsed:    1.6s\n",
      "[Parallel(n_jobs=-1)]: Done 212 tasks      | elapsed:   11.7s\n",
      "[Parallel(n_jobs=-1)]: Done 462 tasks      | elapsed:   25.7s\n",
      "[Parallel(n_jobs=-1)]: Done 800 out of 800 | elapsed:   47.6s finished\n"
     ]
    },
    {
     "data": {
      "text/plain": [
       "GridSearchCV(cv=10, estimator=DecisionTreeClassifier(), n_jobs=-1,\n",
       "             param_grid={'criterion': ['gini'], 'max_depth': range(10, 15),\n",
       "                         'min_samples_leaf': range(1, 5),\n",
       "                         'min_samples_split': range(1, 5)},\n",
       "             scoring='f1', verbose=1)"
      ]
     },
     "execution_count": 94,
     "metadata": {},
     "output_type": "execute_result"
    }
   ],
   "source": [
    "grid_tree=GridSearchCV(DecisionTreeClassifier(),\n",
    "                         param_grid, \n",
    "                         cv=10, \n",
    "                         scoring='f1', \n",
    "                         verbose=1, \n",
    "                         n_jobs=-1)\n",
    "\n",
    "grid_tree.fit(X_train,y_train)"
   ]
  },
  {
   "cell_type": "code",
   "execution_count": 95,
   "metadata": {},
   "outputs": [
    {
     "name": "stdout",
     "output_type": "stream",
     "text": [
      "0.8049544905593612\n",
      "{'criterion': 'gini', 'max_depth': 10, 'min_samples_leaf': 2, 'min_samples_split': 2}\n",
      "DecisionTreeClassifier(max_depth=10, min_samples_leaf=2)\n"
     ]
    }
   ],
   "source": [
    "# Single best score achieved across all params (min_samples_split)\n",
    "print(grid_tree.best_score_)\n",
    "\n",
    "# Dictionary containing the parameters (min_samples_split) used to generate that score\n",
    "print(grid_tree.best_params_)\n",
    "\n",
    "# Actual model object fit with those best parameters\n",
    "# Shows default parameters that we did not specify\n",
    "print(grid_tree.best_estimator_)"
   ]
  },
  {
   "cell_type": "code",
   "execution_count": 96,
   "metadata": {},
   "outputs": [],
   "source": [
    "tree = DecisionTreeClassifier(max_depth=10, max_leaf_nodes=40,min_samples_leaf=2,min_samples_split=3,random_state=80)\n",
    "\n",
    "tree = tree.fit(X_train,y_train)\n",
    "\n",
    "pred_train = tree.predict(X_train)\n",
    "\n",
    "pred_test = tree.predict(X_test)"
   ]
  },
  {
   "cell_type": "code",
   "execution_count": 97,
   "metadata": {},
   "outputs": [
    {
     "name": "stdout",
     "output_type": "stream",
     "text": [
      "Accuracy: 0.953196\n",
      "F1: 0.823347\n",
      "Recall: 0.715440\n",
      "Precision: 0.969586\n"
     ]
    }
   ],
   "source": [
    "test_f1 = f1_score(y_test,pred_test)\n",
    "test_acc = accuracy_score(y_test, pred_test)\n",
    "test_recall = recall_score(y_test, pred_test)\n",
    "test_precision = precision_score(y_test,pred_test)\n",
    "\n",
    "print(\"Accuracy: %f\" % (test_acc))\n",
    "print(\"F1: %f\" % (test_f1))\n",
    "print(\"Recall: %f\" % (test_recall))\n",
    "print('Precision: %f' % (test_precision))"
   ]
  },
  {
   "cell_type": "markdown",
   "metadata": {},
   "source": [
    "# XG BOOST"
   ]
  },
  {
   "cell_type": "code",
   "execution_count": 98,
   "metadata": {},
   "outputs": [],
   "source": [
    "import xgboost as xgb\n",
    "from sklearn.metrics import mean_squared_error,accuracy_score, f1_score, roc_auc_score, recall_score, precision_score"
   ]
  },
  {
   "cell_type": "markdown",
   "metadata": {},
   "source": [
    "This includes max_depth, min_child_weight and gamma.\n",
    "\n"
   ]
  },
  {
   "cell_type": "code",
   "execution_count": 99,
   "metadata": {},
   "outputs": [],
   "source": [
    "xg_clf = xgb.XGBClassifier(objective ='binary:logistic', \n",
    "                           colsample_bytree = 0.5, \n",
    "                           min_child_weight = 5,\n",
    "                           learning_rate = 0.1,\n",
    "                           max_depth = 5, \n",
    "                           n_estimators = 500)"
   ]
  },
  {
   "cell_type": "code",
   "execution_count": 100,
   "metadata": {},
   "outputs": [
    {
     "data": {
      "text/plain": [
       "XGBClassifier(colsample_bytree=0.5, max_depth=5, min_child_weight=5,\n",
       "              n_estimators=500)"
      ]
     },
     "execution_count": 100,
     "metadata": {},
     "output_type": "execute_result"
    }
   ],
   "source": [
    "xg_clf.fit(X_train_selected,y_train_selected)"
   ]
  },
  {
   "cell_type": "code",
   "execution_count": 101,
   "metadata": {},
   "outputs": [
    {
     "name": "stdout",
     "output_type": "stream",
     "text": [
      "Accuracy: 0.939647\n",
      "F1: 0.792666\n",
      "Recall: 0.756732\n",
      "Precision: 0.832182\n"
     ]
    }
   ],
   "source": [
    "preds = xg_clf.predict(X_test_selected)\n",
    "\n",
    "test_f1 = f1_score(y_test_selected, preds)\n",
    "test_acc = accuracy_score(y_test_selected, preds)\n",
    "test_recall = recall_score(y_test_selected, preds)\n",
    "test_precision = precision_score(y_test_selected,preds)\n",
    "\n",
    "print(\"Accuracy: %f\" % (test_acc))\n",
    "print(\"F1: %f\" % (test_f1))\n",
    "print(\"Recall: %f\" % (test_recall))\n",
    "print('Precision: %f' % (test_precision))"
   ]
  },
  {
   "cell_type": "code",
   "execution_count": 102,
   "metadata": {
    "scrolled": true
   },
   "outputs": [
    {
     "data": {
      "image/png": "[encoded data removed]",
      "text/plain": [
       "<Figure size 360x360 with 1 Axes>"
      ]
     },
     "metadata": {
      "needs_background": "light"
     },
     "output_type": "display_data"
    }
   ],
   "source": [
    "xgb.plot_importance(xg_clf,max_num_features = 15)\n",
    "plt.rcParams['figure.figsize'] = [5, 5]\n",
    "plt.tick_params(labelsize='large')\n",
    "plt.show()"
   ]
  },
  {
   "cell_type": "markdown",
   "metadata": {},
   "source": [
    "# Grid Searched XG Boost"
   ]
  },
  {
   "cell_type": "code",
   "execution_count": 79,
   "metadata": {},
   "outputs": [],
   "source": [
    "from sklearn.model_selection import RandomizedSearchCV, KFold\n"
   ]
  },
  {
   "cell_type": "code",
   "execution_count": null,
   "metadata": {},
   "outputs": [],
   "source": [
    "clf_xgb = xgb.XGBClassifier(objective = 'binary:logistic')\n",
    "param_dist = {'n_estimators': [100,300,500],\n",
    "              'learning_rate': [0.1,0.07,0.05,0.03,0.01],\n",
    "              'max_depth': [3, 4, 5, 6, 7],\n",
    "              'colsample_bytree': [0.5,0.45,0.4],\n",
    "              'min_child_weight': [1, 2, 3]\n",
    "             }"
   ]
  },
  {
   "cell_type": "code",
   "execution_count": null,
   "metadata": {},
   "outputs": [],
   "source": [
    "# initiate the Gridsearch model\n",
    "gsearch1 = GridSearchCV(\n",
    "    estimator = clf_xgb,\n",
    "    param_grid = param_dist, \n",
    "    scoring='f1',\n",
    "    n_jobs=-1,\n",
    "    verbose=1,\n",
    "    iid=False, \n",
    "    cv=5)\n"
   ]
  },
  {
   "cell_type": "code",
   "execution_count": null,
   "metadata": {},
   "outputs": [],
   "source": [
    "gsearch1.fit(X_train_smote[selected_wrapper],y_train_smote)\n"
   ]
  },
  {
   "cell_type": "code",
   "execution_count": null,
   "metadata": {},
   "outputs": [],
   "source": [
    "gsearch1.best_params_"
   ]
  },
  {
   "cell_type": "code",
   "execution_count": null,
   "metadata": {
    "scrolled": true
   },
   "outputs": [],
   "source": [
    "gsearch1.best_score_"
   ]
  },
  {
   "cell_type": "markdown",
   "metadata": {},
   "source": [
    "These hyperparameters will be used in the XGBoost above the grid search."
   ]
  },
  {
   "cell_type": "markdown",
   "metadata": {},
   "source": [
    "Some info about xgboost:\n",
    "* Generally, importance provides a score that indicates how useful or valuable each feature was in the construction of the boosted decision trees within the model. The more an attribute is used to make key decisions with decision trees, the higher its relative importance.\n",
    "* Importance is calculated for a single decision tree by the amount that each attribute split point improves the performance measure, weighted by the number of observations the node is responsible for. The performance measure may be the purity (Gini index) used to select the split points or another more specific error function."
   ]
  },
  {
   "cell_type": "code",
   "execution_count": null,
   "metadata": {},
   "outputs": [],
   "source": []
  }
 ],
 "metadata": {
  "kernelspec": {
   "display_name": "learn-env",
   "language": "python",
   "name": "learn-env"
  },
  "language_info": {
   "codemirror_mode": {
    "name": "ipython",
    "version": 3
   },
   "file_extension": ".py",
   "mimetype": "text/x-python",
   "name": "python",
   "nbconvert_exporter": "python",
   "pygments_lexer": "ipython3",
   "version": "3.6.9"
  }
 },
 "nbformat": 4,
 "nbformat_minor": 4
}
